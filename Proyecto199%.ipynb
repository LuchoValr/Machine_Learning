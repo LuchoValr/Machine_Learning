{
  "nbformat": 4,
  "nbformat_minor": 0,
  "metadata": {
    "colab": {
      "provenance": [],
      "include_colab_link": true
    },
    "kernelspec": {
      "name": "python3",
      "display_name": "Python 3"
    },
    "language_info": {
      "name": "python"
    }
  },
  "cells": [
    {
      "cell_type": "markdown",
      "metadata": {
        "id": "view-in-github",
        "colab_type": "text"
      },
      "source": [
        "<a href=\"https://colab.research.google.com/github/LuchoValr/Machine_Learning/blob/main/Proyecto199%25.ipynb\" target=\"_parent\"><img src=\"https://colab.research.google.com/assets/colab-badge.svg\" alt=\"Open In Colab\"/></a>"
      ]
    },
    {
      "cell_type": "code",
      "source": [
        "class Manipulation:\n",
        "  def __init__(self, x):\n",
        "    self.x = x\n",
        "    self.size = [len(self.x), len(self.x[0])]\n",
        "    self.name_columns = [(self.x[0])]\n",
        "    self.tp = [type(i) for i in self.x[1]]\n",
        "\n",
        "  ## Verificación número de datos en cada fila\n",
        "  def verf(self):\n",
        "    tamaños= []\n",
        "    for i in range(len(self.x)):\n",
        "      tamaños.append(len(self.x[i]))\n",
        "\n",
        "    if tamaños.count(tamaños[0]) == len(tamaños):\n",
        "      print('Todos las filas tienen el mismo número de elementos. ')\n",
        "    else:\n",
        "      print('Los números de elementos entre filas son diferentes. ')\n",
        "    return None\n",
        "\n",
        "  # Acceder a una columna \n",
        "  def col(self, posicion):\n",
        "    cols= [] #Se crea una lista vacía para almacenar la columna.\n",
        "    for i in range(len(self.x)): #Un for que se mueve por las filas.\n",
        "      cols.append(self.x[i][posicion])# Agrega a la lista vacía, el elemento segun la posición por cada fila.\n",
        "    return cols\n",
        "\n",
        "  #Acceder a una fila\n",
        "  def row(self,posicion):\n",
        "    rows=[]\n",
        "    for i in range(len(self.x)):\n",
        "      rows.append(self.x[posicion])\n",
        "      return rows\n",
        "\n",
        "  #Agregar una columna\n",
        "  def agg_col(self, new_col : list, indexcol_to_agg : int):\n",
        "    if len(self.x)==len(new_col):\n",
        "      for i in range(len(self.x)):\n",
        "        self.x[i].insert(indexcol_to_agg,new_col[i])\n",
        "      print(self.x) \n",
        "        \n",
        "    else:\n",
        "      print('La columna no se puede agregar, diferente tamaño de listas')\n",
        "      \n",
        "\n",
        "  #Agregar una fila\n",
        "  def agg_row(self,new_raw : list, indexraw_to_agg : int):\n",
        "    if len(self.x[0]) == len(new_raw):\n",
        "      self.x.insert(indexraw_to_agg, new_raw)\n",
        "      print(self.x)\n",
        "    else:\n",
        "      print('La lista no se puede agregar, diferente tamaño de listas')\n",
        "    \n",
        "\n",
        "  #Eliminar una columna\n",
        "  def del_col(self, indexcol_to_delete : int):\n",
        "    for i in range(len(self.x)):\n",
        "        self.x[i].pop(indexcol_to_delete)\n",
        "    print(self.x)\n",
        "\n",
        "  #Eliminar una fila    \n",
        "  def del_row(self, indexraw_to_delete : int):\n",
        "    if indexraw_to_delete != 0:\n",
        "      self.x.pop(indexraw_to_delete)\n",
        "      print(self.x)\n",
        "    else:\n",
        "      print('No se pueden eliminar los nombres de las columnas')\n",
        "\n",
        "  #Operaciones con un escalar\n",
        "  def operation_scalar(self,A:int):\n",
        "    print(\"---------------------------------------------------------\")\n",
        "    print(\"Operaciones con un escalar: \",'\\n', \"Sumar => 1 \", '\\n', \"Restar => 2\",'\\n', \"Multiplicar => 3\", '\\n', \"Dividir => 4\" )\n",
        "    opcion= int(input(\" ¿Qué operación desea hacer ? \"))\n",
        "    \n",
        "    y= self.x[0]\n",
        "    self.x.pop(0)\n",
        "\n",
        "    if opcion == 1:\n",
        "\n",
        "        print(\"Usted ha seleccionado Sumar \", '\\n')\n",
        "        plus = [[(self.x[j][i] + A) for i in range(len(self.x[j]))] for j in range(len(self.x))]\n",
        "        plus.insert(0, y)\n",
        "\n",
        "        return(plus)\n",
        "    \n",
        "    elif  opcion == 2:\n",
        "\n",
        "        print(\"Usted ha seleccionado Restar \", '\\n')\n",
        "        rest = [[self.x[j][i] - A for i in range(len(self.x[j]))] for j in range(len(self.x))]\n",
        "        rest.insert(0,y)\n",
        "\n",
        "        return(rest)\n",
        "    \n",
        "    elif  opcion == 3:\n",
        "\n",
        "        print(\"Usted ha seleccionado Multiplicar \", '\\n')\n",
        "        multiply = [[self.x[j][i] * A for i in range(len(self.x[j]))] for j in range(len(self.x))]\n",
        "        multiply.insert(0,y)\n",
        "\n",
        "        return(multiply)\n",
        "\n",
        "    else:\n",
        "\n",
        "        print(\"Usted ha seleccionado Dividir \", '\\n')\n",
        "        division = [[self.x[j][i] / A for i in range(len(self.x[j]))] for j in range(len(self.x))]\n",
        "        division.insert(0,y)\n",
        "\n",
        "        return(division)\n",
        "\n",
        "  #Operaciones entre columnas\n",
        "  def operation_columns(self,columna1:int,columna2:int):\n",
        "    print(\"---------------------------------------------------------\")\n",
        "    print(\"Operaciones entre columnas : \",'\\n', \"Sumar => 1 \", '\\n', \"Restar => 2\",'\\n', \"Multiplicar => 3\", '\\n', \"Dividir => 4\" )\n",
        "    opcion= int(input(\" ¿Qué operación desea hacer ? \"))\n",
        "    y= self.x[0]\n",
        "    self.x.pop(0)\n",
        "    name = input(\"inserte el nombre de la nueva columna \")\n",
        "\n",
        "    if opcion == 1:\n",
        "\n",
        "        print(\"Usted ha seleccionado Sumar \", '\\n')\n",
        "        sum_columns = [(self.x[i][columna1] + self.x[i][columna2]) for i in range(len(self.x))]\n",
        "        self.x.insert(0, y)\n",
        "        sum_columns.insert(0, name)\n",
        "        agg_col(self.x, sum_columns, 0)\n",
        "\n",
        "        return(self.x)\n",
        "\n",
        "    elif opcion == 2:\n",
        "\n",
        "        print(\"Usted ha seleccionado Restar \", '\\n')\n",
        "        rest_columns = [(self.x[i][columna1] - self.x[i][columna2]) for i in range(len(self.x))]\n",
        "        self.x.insert(0, y)\n",
        "        rest_columns.insert(0, name)\n",
        "        agg_col(self.x, rest_columns, 0)\n",
        "\n",
        "        return(self.x)\n",
        "    \n",
        "    elif opcion == 3:\n",
        "\n",
        "        print(\"Usted ha seleccionado Multiplicar \", '\\n')\n",
        "        multiply_columns = [(self.x[i][columna1] * self.x[i][columna2]) for i in range(len(self.x))]\n",
        "        self.x.insert(0, y)\n",
        "        multiply_columns.insert(0, name)\n",
        "        agg_col(self.x, multiply_columns, 0)\n",
        "\n",
        "        return(self.x)\n",
        "    \n",
        "    else:\n",
        "\n",
        "        print(\"Usted ha seleccionado Dividir \", '\\n')\n",
        "        division_columns = [(self.x[i][columna1] / self.x[i][columna2]) for i in range(len(self.x))]\n",
        "        self.x.insert(0, y)\n",
        "        division_columns.insert(0, name)\n",
        "        agg_col(self.x, division_columns, 0)\n",
        "\n",
        "        return(self.x)\n",
        " \n",
        "  #ordenar a partir de columnas\n",
        "  def order_cols(self, cols : int):\n",
        "    m = self.x[0]\n",
        "    self.x.pop(0)\n",
        "    self.x.sort(key = lambda c : c[cols])\n",
        "    self.x= self.x.insert(0,m)\n",
        "    return self.x\n",
        "\n",
        "  #Imprimir datos\n",
        "  def print_df(self):\n",
        "    show_df = [elemento for elemento in range(len(self.x[0]))]\n",
        "    print('',\"Columna\", show_df)\n",
        "    for dato in range(len(self.x)):\n",
        "        print('\\n','\\t',self.x[dato],'\\n')"
      ],
      "metadata": {
        "id": "dLcEGs2ceY42"
      },
      "execution_count": 53,
      "outputs": []
    },
    {
      "cell_type": "code",
      "source": [
        "tabla = Manipulation([[2,3],[6,2], [11,5]])\n",
        "tabla.print_df()"
      ],
      "metadata": {
        "id": "IU_ftDm9hj2h",
        "colab": {
          "base_uri": "https://localhost:8080/"
        },
        "outputId": "984bc252-1435-46dd-dd7b-c625ef28b22f"
      },
      "execution_count": 54,
      "outputs": [
        {
          "output_type": "stream",
          "name": "stdout",
          "text": [
            " Columna [0, 1]\n",
            "\n",
            " \t [2, 3] \n",
            "\n",
            "\n",
            " \t [6, 2] \n",
            "\n",
            "\n",
            " \t [11, 5] \n",
            "\n"
          ]
        }
      ]
    },
    {
      "cell_type": "code",
      "source": [
        "def operation_scalar(x,A:int):\n",
        "  plus = [[x[j][i] + A for i in range(len(x[j]))] for j in range(len(x))]\n",
        "  plus.insert(0,y)\n",
        "  return plus\n"
      ],
      "metadata": {
        "id": "CfPeOc3USfB4"
      },
      "execution_count": null,
      "outputs": []
    },
    {
      "cell_type": "code",
      "source": [
        "operation_scalar(x,2)"
      ],
      "metadata": {
        "colab": {
          "base_uri": "https://localhost:8080/"
        },
        "id": "Z6qaujHSUfMG",
        "outputId": "6f74012a-d9b4-4a47-b5f1-d1e60cb0e9af"
      },
      "execution_count": null,
      "outputs": [
        {
          "output_type": "execute_result",
          "data": {
            "text/plain": [
              "[[2, 3], [8, 4], [13, 7]]"
            ]
          },
          "metadata": {},
          "execution_count": 22
        }
      ]
    },
    {
      "cell_type": "code",
      "source": [
        "y= x[0]\n",
        "x.pop(0)\n",
        "x"
      ],
      "metadata": {
        "colab": {
          "base_uri": "https://localhost:8080/"
        },
        "id": "1Kq6UzcfS_qp",
        "outputId": "32143deb-25aa-4700-dbe4-d30a68e60067"
      },
      "execution_count": null,
      "outputs": [
        {
          "output_type": "execute_result",
          "data": {
            "text/plain": [
              "[[6, 2], [11, 5]]"
            ]
          },
          "metadata": {},
          "execution_count": 19
        }
      ]
    },
    {
      "cell_type": "code",
      "execution_count": 33,
      "metadata": {
        "id": "k4iCFFjIu_mf"
      },
      "outputs": [],
      "source": [
        "\n"
      ]
    },
    {
      "cell_type": "code",
      "source": [
        "def agg_col(x, new_col : list):\n",
        "    if len(x)==len(new_col):\n",
        "      for i in range(len(x)):\n",
        "        for j in new_col:\n",
        "          x[i].append(j)\n",
        "        return x\n",
        "    else:\n",
        "      print('La columna no se puede agregar, diferente tamaño de listas')"
      ],
      "metadata": {
        "id": "eMbAedL1G8jo"
      },
      "execution_count": null,
      "outputs": []
    },
    {
      "cell_type": "code",
      "source": [
        "def agg_col(original_matrix: list, new_col : list, indexcol_to_agg : int):\n",
        "  if len(original_matrix)==len(new_col):\n",
        "    for i in range(len(original_matrix)):\n",
        "      original_matrix[i].insert(indexcol_to_agg,new_col[i])\n",
        "      \n",
        "  else:\n",
        "    print('La columna no se puede agregar, diferente tamaño de listas')"
      ],
      "metadata": {
        "id": "U-i1vzylKGn4"
      },
      "execution_count": null,
      "outputs": []
    },
    {
      "cell_type": "code",
      "source": [
        "y=['estado','bien', 'mal']\n",
        "agg_col(x,y,1)\n",
        "x"
      ],
      "metadata": {
        "colab": {
          "base_uri": "https://localhost:8080/"
        },
        "id": "0C1_ZWW6HOaG",
        "outputId": "d198440e-971f-4213-d119-a1b0d532b956"
      },
      "execution_count": null,
      "outputs": [
        {
          "output_type": "execute_result",
          "data": {
            "text/plain": [
              "[['departamento', 'estado', 'edad', 'genero'],\n",
              " ['Cundinamarca', 'bien', 19, 1],\n",
              " ['Atlántica', 'mal', 20, 0]]"
            ]
          },
          "metadata": {},
          "execution_count": 75
        }
      ]
    },
    {
      "cell_type": "code",
      "source": [
        "tabla\n"
      ],
      "metadata": {
        "id": "FxtglMa3-xZI",
        "colab": {
          "base_uri": "https://localhost:8080/"
        },
        "outputId": "2ac3dc96-9c9b-4c59-a740-3739eeef8983"
      },
      "execution_count": 14,
      "outputs": [
        {
          "output_type": "execute_result",
          "data": {
            "text/plain": [
              "<__main__.Manipulation at 0x7f117e7a73a0>"
            ]
          },
          "metadata": {},
          "execution_count": 14
        }
      ]
    },
    {
      "cell_type": "markdown",
      "source": [
        "#### Verificación número de datos en cada fila."
      ],
      "metadata": {
        "id": "p5yBsmQwyCN8"
      }
    },
    {
      "cell_type": "code",
      "source": [
        "def verf(x):\n",
        "  tamaños= []\n",
        "  for i in range(len(x)):\n",
        "    tamaños.append(len(x[i]))\n",
        "\n",
        "  if tamaños.count(tamaños[0]) == len(tamaños):\n",
        "    print('Todos las filas tienen el mismo número de elementos. ')\n",
        "  else:\n",
        "    print('Los números de elementos entre filas son diferentes. ')\n",
        "  return None"
      ],
      "metadata": {
        "id": "byZ_Xh5EwxWK"
      },
      "execution_count": null,
      "outputs": []
    },
    {
      "cell_type": "code",
      "source": [
        "verf(x)"
      ],
      "metadata": {
        "colab": {
          "base_uri": "https://localhost:8080/"
        },
        "id": "Gi9T_MnS0upY",
        "outputId": "50080f79-da1b-4fb9-9c42-7b7d173a5da5"
      },
      "execution_count": null,
      "outputs": [
        {
          "output_type": "stream",
          "name": "stdout",
          "text": [
            "Los números de elementos entre filas son diferentes. \n"
          ]
        }
      ]
    },
    {
      "cell_type": "markdown",
      "source": [
        "#### Acceder a una columna"
      ],
      "metadata": {
        "id": "-aGhrmH7--F1"
      }
    },
    {
      "cell_type": "code",
      "source": [
        "def col(x, posicion):\n",
        "  cols= [] #Se cra una lista vacía para almacenar la columna.\n",
        "  for i in range(len(x)): #Un for que se mueve por las filas.\n",
        "    cols.append(x[i][posicion])# Agrega a la lista vacía, el elemento segun la posición por cada fila.\n",
        "  return cols"
      ],
      "metadata": {
        "id": "sC4I6KxR18kW"
      },
      "execution_count": null,
      "outputs": []
    },
    {
      "cell_type": "code",
      "source": [
        "col(x,1)"
      ],
      "metadata": {
        "colab": {
          "base_uri": "https://localhost:8080/"
        },
        "id": "XWcbQyYPBrZV",
        "outputId": "8861958f-2e47-482c-9ad1-4aae0b7bc3e0"
      },
      "execution_count": null,
      "outputs": [
        {
          "output_type": "execute_result",
          "data": {
            "text/plain": [
              "[3, 2, 5]"
            ]
          },
          "metadata": {},
          "execution_count": 40
        }
      ]
    },
    {
      "cell_type": "markdown",
      "source": [
        "####Acceder a una fila"
      ],
      "metadata": {
        "id": "vE36XuQ8EFFb"
      }
    },
    {
      "cell_type": "code",
      "source": [
        "def row(x,posicion):\n",
        "  rows=[]\n",
        "  for i in range(len(x)):\n",
        "    rows.append(x[posicion])\n",
        "    return rows"
      ],
      "metadata": {
        "id": "p5K3omvZCr6X"
      },
      "execution_count": null,
      "outputs": []
    },
    {
      "cell_type": "code",
      "source": [
        "x=[['departamento','edad','genero'],\n",
        "       ['Cundinamarca', 19 , 1],\n",
        "       ['Atlántica',20, 0]]"
      ],
      "metadata": {
        "id": "0ZdAtHevNmC0"
      },
      "execution_count": 7,
      "outputs": []
    },
    {
      "cell_type": "code",
      "source": [
        "def order_cols(x:list, cols : int):\n",
        "  m = x[0]\n",
        "  x.pop(0)\n",
        "  x.sort(key = lambda c : c[cols])\n",
        "  x= x.insert(0,m)\n",
        "  return x"
      ],
      "metadata": {
        "id": "L7jgp-82Oa-i"
      },
      "execution_count": 6,
      "outputs": []
    },
    {
      "cell_type": "code",
      "source": [
        "order_cols(x,0)"
      ],
      "metadata": {
        "id": "qpkSK6jFPQCe"
      },
      "execution_count": 8,
      "outputs": []
    },
    {
      "cell_type": "code",
      "source": [
        "x"
      ],
      "metadata": {
        "id": "NqrZmUqfP-Sy",
        "outputId": "4daef3f2-30b9-43a0-ca17-8bf5e11c3413",
        "colab": {
          "base_uri": "https://localhost:8080/"
        }
      },
      "execution_count": 9,
      "outputs": [
        {
          "output_type": "execute_result",
          "data": {
            "text/plain": [
              "[['departamento', 'edad', 'genero'],\n",
              " ['Atlántica', 20, 0],\n",
              " ['Cundinamarca', 19, 1]]"
            ]
          },
          "metadata": {},
          "execution_count": 9
        }
      ]
    },
    {
      "cell_type": "code",
      "source": [
        "def agg_col(x:list, new_col : list, indexcol_to_agg : int):\n",
        "    if len(x)==len(new_col):\n",
        "      for i in range(len(x)):\n",
        "        x[i].insert(indexcol_to_agg,new_col[i])\n",
        "      print(x) \n",
        "        "
      ],
      "metadata": {
        "id": "wUo5OSvZE66M"
      },
      "execution_count": 11,
      "outputs": []
    },
    {
      "cell_type": "code",
      "source": [
        "def operation_columns1(x,columna1:int,columna2:int):\n",
        "    print(\"---------------------------------------------------------\")\n",
        "    print(\"Operaciones entre columnas : \",'\\n', \"Sumar => 1 \", '\\n', \"Restar => 2\",'\\n', \"Multiplicar => 3\", '\\n', \"Dividir => 4\" )\n",
        "    opcion= int(input(\" ¿Qué operación desea hacer ? \"))\n",
        "    y = x[0]\n",
        "    x.pop(0)\n",
        "\n",
        "    if opcion == 1:\n",
        "\n",
        "        print(\"Usted ha seleccionado Sumar \", '\\n')\n",
        "        sum_columns = [(x[i][columna1] + x[i][columna2]) for i in range(len(x))]\n",
        "        x.insert(0,y)\n",
        "        name=input(\"inserte el nombre de la nueva columna \")\n",
        "        sum_columns.insert(0,name)\n",
        "        agg_col(x,sum_columns,0)\n",
        "\n",
        "        return(x)"
      ],
      "metadata": {
        "id": "-wMo-XY5Qv1K"
      },
      "execution_count": 37,
      "outputs": []
    },
    {
      "cell_type": "code",
      "source": [
        "k=[[2,3,5],[6,2,7], [11,5,9]]"
      ],
      "metadata": {
        "id": "4yZ_YoWiY3M5"
      },
      "execution_count": 38,
      "outputs": []
    },
    {
      "cell_type": "code",
      "source": [
        "operation_columns1(k,0,1)"
      ],
      "metadata": {
        "colab": {
          "base_uri": "https://localhost:8080/"
        },
        "id": "rwtLqYynRIKj",
        "outputId": "68e144f9-f4c2-427d-c555-b54072452614"
      },
      "execution_count": 39,
      "outputs": [
        {
          "output_type": "stream",
          "name": "stdout",
          "text": [
            "---------------------------------------------------------\n",
            "Operaciones entre columnas :  \n",
            " Sumar => 1  \n",
            " Restar => 2 \n",
            " Multiplicar => 3 \n",
            " Dividir => 4\n",
            " ¿Qué operación desea hacer ? 1\n",
            "Usted ha seleccionado Sumar  \n",
            "\n",
            "inserte el nombre de la nueva columna 1\n",
            "[['1', 2, 3, 5], [8, 6, 2, 7], [16, 11, 5, 9]]\n"
          ]
        },
        {
          "output_type": "execute_result",
          "data": {
            "text/plain": [
              "[['1', 2, 3, 5], [8, 6, 2, 7], [16, 11, 5, 9]]"
            ]
          },
          "metadata": {},
          "execution_count": 39
        }
      ]
    },
    {
      "cell_type": "code",
      "source": [],
      "metadata": {
        "id": "oZf9ZYrjRRY4"
      },
      "execution_count": null,
      "outputs": []
    }
  ]
}