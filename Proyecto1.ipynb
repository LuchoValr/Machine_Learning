{
  "nbformat": 4,
  "nbformat_minor": 0,
  "metadata": {
    "colab": {
      "provenance": [],
      "include_colab_link": true
    },
    "kernelspec": {
      "name": "python3",
      "display_name": "Python 3"
    },
    "language_info": {
      "name": "python"
    }
  },
  "cells": [
    {
      "cell_type": "markdown",
      "metadata": {
        "id": "view-in-github",
        "colab_type": "text"
      },
      "source": [
        "<a href=\"https://colab.research.google.com/github/LuchoValr/Machine_Learning/blob/main/Proyecto1.ipynb\" target=\"_parent\"><img src=\"https://colab.research.google.com/assets/colab-badge.svg\" alt=\"Open In Colab\"/></a>"
      ]
    },
    {
      "cell_type": "code",
      "source": [
        "class Manipulation:\n",
        "  def __init__(self, x):\n",
        "    self.x = x\n",
        "    self.name_columns = [len(self.x), len(self.x[0])]\n",
        "    self.type_columns = [type(self.x)[0]]\n",
        "\n",
        "  ## Verificación número de datos en cada fila\n",
        "  def verf(self):\n",
        "    tamaños= []\n",
        "    for i in range(len(self.x)):\n",
        "      tamaños.append(len(self.x[i]))\n",
        "\n",
        "    if tamaños.count(tamaños[0]) == len(tamaños):\n",
        "      print('Todos las filas tienen el mismo número de elementos. ')\n",
        "    else:\n",
        "      print('Los números de elementos entre filas son diferentes. ')\n",
        "    return None\n",
        "\n",
        "  # Acceder a una columna \n",
        "  def col(self, posicion):\n",
        "    cols= [] #Se crea una lista vacía para almacenar la columna.\n",
        "    for i in range(self.x(x)): #Un for que se mueve por las filas.\n",
        "      cols.append(self.x[i][posicion])# Agrega a la lista vacía, el elemento segun la posición por cada fila.\n",
        "    return cols\n",
        "\n",
        "  #Acceder a una fila\n",
        "  def row(self, x,posicion):\n",
        "    rows=[]\n",
        "    for i in range(len(x)):\n",
        "      rows.append(x[posicion])\n",
        "      return rows\n",
        "\n",
        "  #Agregar una columna\n",
        "  def agg_col(self, x: list, new_col : list, indexcol_to_agg : int):\n",
        "    if len(x)==len(new_col):\n",
        "      for i in range(len(x)):\n",
        "        x[i].insert(indexcol_to_agg,new_col[i])\n",
        "        \n",
        "    else:\n",
        "      print('La columna no se puede agregar, diferente tamaño de listas')\n",
        "\n",
        "  #Agregar una fila\n",
        "  def agg_row(self, x : list, new_raw : list, indexraw_to_agg : int):\n",
        "    if len(x[0]) == len(new_raw):\n",
        "      x.insert(indexraw_to_agg, new_raw)\n",
        "    else:\n",
        "      print('La lista no se puede agregar, diferente tamaño de listas')\n",
        "\n",
        "  #Eliminar una columna\n",
        "  def del_col(self, x : list, indexcol_to_delete : int):\n",
        "    for i in range(len(x)):\n",
        "        x[i].pop(indexcol_to_delete)\n",
        "        \n",
        "  #Eliminar una fila    \n",
        "  def del_raw(self, x : list, indexraw_to_delete : int):\n",
        "    x.pop(indexraw_to_delete)\n",
        "\n",
        "  #Operaciones con un escalar\n",
        "  def operation_scalar(selfx,A:int):\n",
        "    print(\"---------------------------------------------------------\")\n",
        "    print(\"Operaciones con un escalar: \",'\\n', \"Sumar => 1 \", '\\n', \"Restar => 2\",'\\n', \"Multiplicar => 3\", '\\n', \"Dividir => 4\" )\n",
        "    opcion= int(input(\" Que operacion desea hacer ? \"))\n",
        "    \n",
        "    if opcion == 1:\n",
        "\n",
        "        print(\"Usted ha seleccionado Sumar \", '\\n')\n",
        "        plus = [[x[j][i] + A for i in range(len(x[j]))] for j in range(len(x))]\n",
        "\n",
        "        return(plus)\n",
        "    \n",
        "    elif  opcion == 2:\n",
        "\n",
        "        print(\"Usted ha seleccionado Restar \", '\\n')\n",
        "        rest = [[x[j][i] - A for i in range(len(x[j]))] for j in range(len(x))]\n",
        "\n",
        "        return(rest)\n",
        "    \n",
        "    elif  opcion == 3:\n",
        "\n",
        "        print(\"Usted ha seleccionado Multiplicar \", '\\n')\n",
        "        multiply = [[x[j][i] * A for i in range(len(x[j]))] for j in range(len(x))]\n",
        "\n",
        "        return(multiply)\n",
        "    else:\n",
        "\n",
        "        print(\"Usted ha seleccionado Dividir \", '\\n')\n",
        "        division = [[x[j][i] / A for i in range(len(x[j]))] for j in range(len(x))]\n",
        "\n",
        "        return(division)\n",
        "\n",
        "  #Operaciones entre columnas\n",
        "  def operation_columns(x,columna1:int,columna2:int):\n",
        "    print(\"---------------------------------------------------------\")\n",
        "    print(\"Operaciones entre columnas : \",'\\n', \"Sumar = 1 \", '\\n', \"Restar = 2\",'\\n', \"Multiplicar = 3\", '\\n', \"Dividir = 4\" )\n",
        "    opcion= int(input(\" Que operacion desea hacer ? \"))\n",
        "\n",
        "    if opcion == 1:\n",
        "\n",
        "        print(\"Usted ha seleccionado Sumar \", '\\n')\n",
        "        sum_columns = [(x[i][columna1] + x[i][columna2]) for i in range(len(x))]\n",
        "\n",
        "        return(sum_columns)\n",
        "    \n",
        "    elif opcion == 2:\n",
        "\n",
        "        print(\"Usted ha seleccionado Restar \", '\\n')\n",
        "        rest_columns = [(x[i][columna1] - x[i][columna2]) for i in range(len(x))]\n",
        "\n",
        "        return(rest_columns)\n",
        "    \n",
        "    elif opcion == 3:\n",
        "\n",
        "        print(\"Usted ha seleccionado Multiplicar \", '\\n')\n",
        "        multiply_columns = [(x[i][columna1] * x[i][columna2]) for i in range(len(x))]\n",
        "\n",
        "        return(multiply_columns)\n",
        "    \n",
        "    else:\n",
        "\n",
        "        print(\"Usted ha seleccionado Dividir \", '\\n')\n",
        "        division_columns = [(x[i][columna1] / x[i][columna2]) for i in range(len(x))]\n",
        "\n",
        "        return(division_columns)\n",
        " \n",
        "  #Imprimir datos\n",
        "  def print_df(x):\n",
        "    show_df = [elemento for elemento in range(len(x[0]))]\n",
        "    print('',\"Columna\", show_df)\n",
        "    for dato in range(len(x)):\n",
        "        print('\\n','\\t',x[dato],'\\n')\n",
        "\n",
        "\n"
      ],
      "metadata": {
        "id": "dLcEGs2ceY42"
      },
      "execution_count": null,
      "outputs": []
    },
    {
      "cell_type": "code",
      "source": [
        "tabla = Manipulation([[2,3],[6,2], [11,5]])\n",
        "tabla.name_columns\n",
        "tabla.type_columns"
      ],
      "metadata": {
        "id": "IU_ftDm9hj2h",
        "colab": {
          "base_uri": "https://localhost:8080/",
          "height": 321
        },
        "outputId": "da77656e-c514-41d1-949a-ff8c407c4fa3"
      },
      "execution_count": null,
      "outputs": [
        {
          "output_type": "error",
          "ename": "TypeError",
          "evalue": "ignored",
          "traceback": [
            "\u001b[0;31m---------------------------------------------------------------------------\u001b[0m",
            "\u001b[0;31mTypeError\u001b[0m                                 Traceback (most recent call last)",
            "\u001b[0;32m<ipython-input-11-9d770e8d32b1>\u001b[0m in \u001b[0;36m<module>\u001b[0;34m\u001b[0m\n\u001b[0;32m----> 1\u001b[0;31m \u001b[0mtabla\u001b[0m \u001b[0;34m=\u001b[0m \u001b[0mManipulation\u001b[0m\u001b[0;34m(\u001b[0m\u001b[0;34m[\u001b[0m\u001b[0;34m[\u001b[0m\u001b[0;36m2\u001b[0m\u001b[0;34m,\u001b[0m\u001b[0;36m3\u001b[0m\u001b[0;34m]\u001b[0m\u001b[0;34m,\u001b[0m\u001b[0;34m[\u001b[0m\u001b[0;36m6\u001b[0m\u001b[0;34m,\u001b[0m\u001b[0;36m2\u001b[0m\u001b[0;34m]\u001b[0m\u001b[0;34m,\u001b[0m \u001b[0;34m[\u001b[0m\u001b[0;36m11\u001b[0m\u001b[0;34m,\u001b[0m\u001b[0;36m5\u001b[0m\u001b[0;34m]\u001b[0m\u001b[0;34m]\u001b[0m\u001b[0;34m)\u001b[0m\u001b[0;34m\u001b[0m\u001b[0;34m\u001b[0m\u001b[0m\n\u001b[0m\u001b[1;32m      2\u001b[0m \u001b[0mtabla\u001b[0m\u001b[0;34m.\u001b[0m\u001b[0mname_columns\u001b[0m\u001b[0;34m\u001b[0m\u001b[0;34m\u001b[0m\u001b[0m\n\u001b[1;32m      3\u001b[0m \u001b[0mtabla\u001b[0m\u001b[0;34m.\u001b[0m\u001b[0mtype_columns\u001b[0m\u001b[0;34m\u001b[0m\u001b[0;34m\u001b[0m\u001b[0m\n",
            "\u001b[0;32m<ipython-input-10-8e01103cedcc>\u001b[0m in \u001b[0;36m__init__\u001b[0;34m(self, x)\u001b[0m\n\u001b[1;32m      3\u001b[0m     \u001b[0mself\u001b[0m\u001b[0;34m.\u001b[0m\u001b[0mx\u001b[0m \u001b[0;34m=\u001b[0m \u001b[0mx\u001b[0m\u001b[0;34m\u001b[0m\u001b[0;34m\u001b[0m\u001b[0m\n\u001b[1;32m      4\u001b[0m     \u001b[0mself\u001b[0m\u001b[0;34m.\u001b[0m\u001b[0mname_columns\u001b[0m \u001b[0;34m=\u001b[0m \u001b[0;34m[\u001b[0m\u001b[0mlen\u001b[0m\u001b[0;34m(\u001b[0m\u001b[0mself\u001b[0m\u001b[0;34m.\u001b[0m\u001b[0mx\u001b[0m\u001b[0;34m)\u001b[0m\u001b[0;34m,\u001b[0m \u001b[0mlen\u001b[0m\u001b[0;34m(\u001b[0m\u001b[0mself\u001b[0m\u001b[0;34m.\u001b[0m\u001b[0mx\u001b[0m\u001b[0;34m[\u001b[0m\u001b[0;36m0\u001b[0m\u001b[0;34m]\u001b[0m\u001b[0;34m)\u001b[0m\u001b[0;34m]\u001b[0m\u001b[0;34m\u001b[0m\u001b[0;34m\u001b[0m\u001b[0m\n\u001b[0;32m----> 5\u001b[0;31m     \u001b[0mself\u001b[0m\u001b[0;34m.\u001b[0m\u001b[0mtype_columns\u001b[0m \u001b[0;34m=\u001b[0m \u001b[0;34m[\u001b[0m\u001b[0mtype\u001b[0m\u001b[0;34m(\u001b[0m\u001b[0mself\u001b[0m\u001b[0;34m.\u001b[0m\u001b[0mx\u001b[0m\u001b[0;34m)\u001b[0m\u001b[0;34m[\u001b[0m\u001b[0;36m0\u001b[0m\u001b[0;34m]\u001b[0m\u001b[0;34m]\u001b[0m\u001b[0;34m\u001b[0m\u001b[0;34m\u001b[0m\u001b[0m\n\u001b[0m\u001b[1;32m      6\u001b[0m \u001b[0;34m\u001b[0m\u001b[0m\n\u001b[1;32m      7\u001b[0m   \u001b[0;31m## Verificación número de datos en cada fila\u001b[0m\u001b[0;34m\u001b[0m\u001b[0;34m\u001b[0m\u001b[0;34m\u001b[0m\u001b[0m\n",
            "\u001b[0;31mTypeError\u001b[0m: 'type' object is not subscriptable"
          ]
        }
      ]
    },
    {
      "cell_type": "code",
      "execution_count": null,
      "metadata": {
        "colab": {
          "base_uri": "https://localhost:8080/"
        },
        "id": "k4iCFFjIu_mf",
        "outputId": "233f571a-5251-4056-9095-c319337ca7aa"
      },
      "outputs": [
        {
          "output_type": "execute_result",
          "data": {
            "text/plain": [
              "[[2, 3], [6, 2], [11, 5]]"
            ]
          },
          "metadata": {},
          "execution_count": 31
        }
      ],
      "source": [
        "x=[[2,3],[6,2], [11,5]]\n",
        "x"
      ]
    },
    {
      "cell_type": "markdown",
      "source": [
        "#### Verificación número de datos en cada fila."
      ],
      "metadata": {
        "id": "p5yBsmQwyCN8"
      }
    },
    {
      "cell_type": "code",
      "source": [
        "def verf(x):\n",
        "  tamaños= []\n",
        "  for i in range(len(x)):\n",
        "    tamaños.append(len(x[i]))\n",
        "\n",
        "  if tamaños.count(tamaños[0]) == len(tamaños):\n",
        "    print('Todos las filas tienen el mismo número de elementos. ')\n",
        "  else:\n",
        "    print('Los números de elementos entre filas son diferentes. ')\n",
        "  return None"
      ],
      "metadata": {
        "id": "byZ_Xh5EwxWK"
      },
      "execution_count": null,
      "outputs": []
    },
    {
      "cell_type": "code",
      "source": [
        "verf(x)"
      ],
      "metadata": {
        "colab": {
          "base_uri": "https://localhost:8080/"
        },
        "id": "Gi9T_MnS0upY",
        "outputId": "50080f79-da1b-4fb9-9c42-7b7d173a5da5"
      },
      "execution_count": null,
      "outputs": [
        {
          "output_type": "stream",
          "name": "stdout",
          "text": [
            "Los números de elementos entre filas son diferentes. \n"
          ]
        }
      ]
    },
    {
      "cell_type": "markdown",
      "source": [
        "#### Acceder a una columna"
      ],
      "metadata": {
        "id": "-aGhrmH7--F1"
      }
    },
    {
      "cell_type": "code",
      "source": [
        "def col(x, posicion):\n",
        "  cols= [] #Se cra una lista vacía para almacenar la columna.\n",
        "  for i in range(len(x)): #Un for que se mueve por las filas.\n",
        "    cols.append(x[i][posicion])# Agrega a la lista vacía, el elemento segun la posición por cada fila.\n",
        "  return cols"
      ],
      "metadata": {
        "id": "sC4I6KxR18kW"
      },
      "execution_count": null,
      "outputs": []
    },
    {
      "cell_type": "code",
      "source": [
        "col(x,1)"
      ],
      "metadata": {
        "colab": {
          "base_uri": "https://localhost:8080/"
        },
        "id": "XWcbQyYPBrZV",
        "outputId": "8861958f-2e47-482c-9ad1-4aae0b7bc3e0"
      },
      "execution_count": null,
      "outputs": [
        {
          "output_type": "execute_result",
          "data": {
            "text/plain": [
              "[3, 2, 5]"
            ]
          },
          "metadata": {},
          "execution_count": 40
        }
      ]
    },
    {
      "cell_type": "markdown",
      "source": [
        "####Acceder a una fila"
      ],
      "metadata": {
        "id": "vE36XuQ8EFFb"
      }
    },
    {
      "cell_type": "code",
      "source": [
        "def row(x,posicion):\n",
        "  rows=[]\n",
        "  for i in range(len(x)):\n",
        "    rows.append(x[posicion])\n",
        "    return rows"
      ],
      "metadata": {
        "id": "p5K3omvZCr6X"
      },
      "execution_count": null,
      "outputs": []
    },
    {
      "cell_type": "code",
      "source": [
        "row(x,2)"
      ],
      "metadata": {
        "colab": {
          "base_uri": "https://localhost:8080/"
        },
        "id": "wUo5OSvZE66M",
        "outputId": "5cde4071-0e27-4d01-d03c-1df002af4965"
      },
      "execution_count": null,
      "outputs": [
        {
          "output_type": "execute_result",
          "data": {
            "text/plain": [
              "[[11, 5]]"
            ]
          },
          "metadata": {},
          "execution_count": 46
        }
      ]
    }
  ]
}