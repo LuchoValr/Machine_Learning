{
  "nbformat": 4,
  "nbformat_minor": 0,
  "metadata": {
    "colab": {
      "provenance": [],
      "authorship_tag": "ABX9TyOm1cAqnhWwBS/FVMCLzutW",
      "include_colab_link": true
    },
    "kernelspec": {
      "name": "python3",
      "display_name": "Python 3"
    },
    "language_info": {
      "name": "python"
    }
  },
  "cells": [
    {
      "cell_type": "markdown",
      "metadata": {
        "id": "view-in-github",
        "colab_type": "text"
      },
      "source": [
        "<a href=\"https://colab.research.google.com/github/LuchoValr/Machine_Learning/blob/main/tarea_machine.ipynb\" target=\"_parent\"><img src=\"https://colab.research.google.com/assets/colab-badge.svg\" alt=\"Open In Colab\"/></a>"
      ]
    },
    {
      "cell_type": "code",
      "execution_count": 1,
      "metadata": {
        "id": "2h1lvaqMXPFa"
      },
      "outputs": [],
      "source": [
        "import random"
      ]
    },
    {
      "cell_type": "code",
      "source": [
        "def lanzar():\n",
        " return random.randint(1,6), random.randint(1,6)"
      ],
      "metadata": {
        "id": "3VFyVcGjXShO"
      },
      "execution_count": 7,
      "outputs": []
    },
    {
      "cell_type": "code",
      "source": [
        "lanzar()"
      ],
      "metadata": {
        "colab": {
          "base_uri": "https://localhost:8080/"
        },
        "id": "IeIBu32dXi8q",
        "outputId": "0c70516f-97c9-44e4-eae2-fb0520c011a5"
      },
      "execution_count": 8,
      "outputs": [
        {
          "output_type": "execute_result",
          "data": {
            "text/plain": [
              "(4, 3)"
            ]
          },
          "metadata": {},
          "execution_count": 8
        }
      ]
    },
    {
      "cell_type": "code",
      "source": [
        "def jugar():\n",
        " rondas_para_ganar = 3\n",
        " rondas_j1 = 0\n",
        " rondas_j2 = 0\n",
        " while rondas_j1 < rondas_para_ganar and rondas_j2 < rondas_para_ganar:\n",
        "  dado_1_jugador_1, dado_2_jugador_1 = lanzar()\n",
        "  dado_1_jugador_2, dado_2_jugador_2 = lanzar()\n",
        "  print(f\"Resultados de los dados del jugador 1: [{dado_1_jugador_1}, {dado_2_jugador_1}]\")\n",
        "  print(f\"Resultados de los dados del jugador 2: [{dado_1_jugador_2}, {dado_2_jugador_2}]\")\n",
        "\n",
        "  if dado_1_jugador_1 in [dado_1_jugador_2, dado_2_jugador_2] or dado_2_jugador_1 in [dado_1_jugador_2, dado_2_jugador_2]:\n",
        "   rondas_j1 += 1\n",
        "   print('Jugador 1 gana la ronda')\n",
        "  else:\n",
        "    rondas_j2 += 1\n",
        "    print('Jugador 2 gana la ronda')\n",
        "    \n",
        " if rondas_j1 > rondas_j2:\n",
        "   print('El jugador 1 gana la partida')\n",
        " else:\n",
        "   print('El jugador 2 gana la partida')"
      ],
      "metadata": {
        "id": "ZMW3Fe1HXkHf"
      },
      "execution_count": 13,
      "outputs": []
    },
    {
      "cell_type": "code",
      "source": [
        "jugar()"
      ],
      "metadata": {
        "colab": {
          "base_uri": "https://localhost:8080/"
        },
        "id": "J_-9Pt_AYeP2",
        "outputId": "94240c49-d0a5-4818-f514-a7a02ab0cae8"
      },
      "execution_count": 17,
      "outputs": [
        {
          "output_type": "stream",
          "name": "stdout",
          "text": [
            "Resultados de los dados del jugador 1: [1, 5]\n",
            "Resultados de los dados del jugador 2: [1, 5]\n",
            "Jugador 1 gana la ronda\n",
            "Resultados de los dados del jugador 1: [3, 1]\n",
            "Resultados de los dados del jugador 2: [6, 1]\n",
            "Jugador 1 gana la ronda\n",
            "Resultados de los dados del jugador 1: [6, 3]\n",
            "Resultados de los dados del jugador 2: [1, 6]\n",
            "Jugador 1 gana la ronda\n",
            "El jugador 1 gana la partida\n"
          ]
        }
      ]
    },
    {
      "cell_type": "code",
      "source": [],
      "metadata": {
        "id": "RvcQldPjYfUb"
      },
      "execution_count": 15,
      "outputs": []
    }
  ]
}