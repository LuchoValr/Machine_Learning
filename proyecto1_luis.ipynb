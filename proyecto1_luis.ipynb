{
  "nbformat": 4,
  "nbformat_minor": 0,
  "metadata": {
    "colab": {
      "provenance": [],
      "authorship_tag": "ABX9TyNhT+V3RNvEs9p3lGz2XX7S",
      "include_colab_link": true
    },
    "kernelspec": {
      "name": "python3",
      "display_name": "Python 3"
    },
    "language_info": {
      "name": "python"
    }
  },
  "cells": [
    {
      "cell_type": "markdown",
      "metadata": {
        "id": "view-in-github",
        "colab_type": "text"
      },
      "source": [
        "<a href=\"https://colab.research.google.com/github/LuchoValr/Machine_Learning/blob/main/proyecto1_luis.ipynb\" target=\"_parent\"><img src=\"https://colab.research.google.com/assets/colab-badge.svg\" alt=\"Open In Colab\"/></a>"
      ]
    },
    {
      "cell_type": "code",
      "execution_count": 133,
      "metadata": {
        "colab": {
          "base_uri": "https://localhost:8080/"
        },
        "id": "9F-tC2LM-KmP",
        "outputId": "7fc93d7d-f775-4112-d802-d65f63622adf"
      },
      "outputs": [
        {
          "output_type": "stream",
          "name": "stdout",
          "text": [
            "[[4, 5], [3, 8]] [[1, 2], [7, 6]]\n"
          ]
        }
      ],
      "source": [
        "a=[[4,5],\n",
        "   [3,8]]\n",
        "b=[[1,2],\n",
        "   [7,6]]\n",
        "print(a,b)"
      ]
    },
    {
      "cell_type": "code",
      "source": [
        "a[0]"
      ],
      "metadata": {
        "colab": {
          "base_uri": "https://localhost:8080/"
        },
        "id": "3J2OOOuEU7HQ",
        "outputId": "5da0abd4-b06f-49f8-c552-104f313a5fdb"
      },
      "execution_count": 77,
      "outputs": [
        {
          "output_type": "execute_result",
          "data": {
            "text/plain": [
              "[4, 5]"
            ]
          },
          "metadata": {},
          "execution_count": 77
        }
      ]
    },
    {
      "cell_type": "code",
      "source": [
        "len(a)"
      ],
      "metadata": {
        "colab": {
          "base_uri": "https://localhost:8080/"
        },
        "id": "Kf6ztWsRVkNI",
        "outputId": "59f6a1e6-de58-4ef0-c988-a2ce03dd9620"
      },
      "execution_count": 78,
      "outputs": [
        {
          "output_type": "execute_result",
          "data": {
            "text/plain": [
              "2"
            ]
          },
          "metadata": {},
          "execution_count": 78
        }
      ]
    },
    {
      "cell_type": "code",
      "source": [
        "b[0]"
      ],
      "metadata": {
        "colab": {
          "base_uri": "https://localhost:8080/"
        },
        "id": "xANQw0_4WvWY",
        "outputId": "c2debbb3-0aa9-4720-a243-e285f4ad787b"
      },
      "execution_count": 79,
      "outputs": [
        {
          "output_type": "execute_result",
          "data": {
            "text/plain": [
              "[1, 2]"
            ]
          },
          "metadata": {},
          "execution_count": 79
        }
      ]
    },
    {
      "cell_type": "code",
      "source": [
        "matrix=[]\n",
        "\n",
        "def dot(a,b):\n",
        "  #Matriz vacia\n",
        "  for raw in range(len(b)):\n",
        "    matrix.append([0 for col in range(len(b[0]))])\n",
        "  #Haciendo la operacion y rellenando la matriz vacia\n",
        "  for col in range(len(b[0])):\n",
        "    for raw in range(len(a)):\n",
        "      for i in range(len(a[0])):\n",
        "        sum=0\n",
        "        sum += a[raw][i]*b[i][col]\n",
        "      matrix[raw][col]=sum\n",
        "  return matrix\n"
      ],
      "metadata": {
        "id": "8M-oV5f--RjQ"
      },
      "execution_count": 80,
      "outputs": []
    },
    {
      "cell_type": "code",
      "source": [
        "dot(a,b)"
      ],
      "metadata": {
        "colab": {
          "base_uri": "https://localhost:8080/"
        },
        "id": "O7jrr1hX-YKA",
        "outputId": "ffa25047-8790-40d4-b575-d4b5f841af96"
      },
      "execution_count": 81,
      "outputs": [
        {
          "output_type": "execute_result",
          "data": {
            "text/plain": [
              "[[35, 30], [56, 48]]"
            ]
          },
          "metadata": {},
          "execution_count": 81
        }
      ]
    },
    {
      "cell_type": "code",
      "source": [
        "len(b[0])"
      ],
      "metadata": {
        "colab": {
          "base_uri": "https://localhost:8080/"
        },
        "id": "bioRtbCxr9rO",
        "outputId": "534a9966-29e0-4bad-849a-50c595ba9f4e"
      },
      "execution_count": 82,
      "outputs": [
        {
          "output_type": "execute_result",
          "data": {
            "text/plain": [
              "2"
            ]
          },
          "metadata": {},
          "execution_count": 82
        }
      ]
    },
    {
      "cell_type": "code",
      "source": [
        "lista = []\n",
        "for raw in range(len(b)):\n",
        "    lista.append([0 for col in range(len(b[0]))])\n",
        "print(lista)"
      ],
      "metadata": {
        "id": "g6C4iDw9Gd40",
        "colab": {
          "base_uri": "https://localhost:8080/"
        },
        "outputId": "f3f9dbeb-2e79-4da9-c14c-fea006bf525a"
      },
      "execution_count": 83,
      "outputs": [
        {
          "output_type": "stream",
          "name": "stdout",
          "text": [
            "[[0, 0], [0, 0]]\n"
          ]
        }
      ]
    },
    {
      "cell_type": "code",
      "source": [
        "a[0]"
      ],
      "metadata": {
        "colab": {
          "base_uri": "https://localhost:8080/"
        },
        "id": "S0djKeHOy6Jx",
        "outputId": "01478b1f-bbcb-464c-824d-d747ea79f90e"
      },
      "execution_count": 84,
      "outputs": [
        {
          "output_type": "execute_result",
          "data": {
            "text/plain": [
              "[4, 5]"
            ]
          },
          "metadata": {},
          "execution_count": 84
        }
      ]
    },
    {
      "cell_type": "code",
      "execution_count": 172,
      "metadata": {
        "colab": {
          "base_uri": "https://localhost:8080/"
        },
        "outputId": "e46fc31b-3d5d-4869-b55f-e96fe4b6e195",
        "id": "DO4fdNngqubx"
      },
      "outputs": [
        {
          "output_type": "stream",
          "name": "stdout",
          "text": [
            "[[4, 5], [3, 8]] [[1, 2], [7, 6]]\n"
          ]
        }
      ],
      "source": [
        "a=[[4,5],\n",
        "   [3,8]]\n",
        "b=[[1,2],\n",
        "   [7,6]]\n",
        "print(a,b)"
      ]
    },
    {
      "cell_type": "code",
      "source": [
        "c=[7,5]\n",
        "def agg_col(original_matrix: list, new_col : list, indexcol_to_agg : int):\n",
        "  if len(original_matrix)==len(new_col):\n",
        "    for i in range(len(a)):\n",
        "      original_matrix[i].insert(indexcol_to_agg,new_col[i])\n",
        "      \n",
        "  else:\n",
        "    print('La columna no se puede agregar, diferente tamaño de listas')\n"
      ],
      "metadata": {
        "id": "OUArwJ74uvsj"
      },
      "execution_count": 186,
      "outputs": []
    },
    {
      "cell_type": "code",
      "source": [
        "agg_col(a, c, 1)"
      ],
      "metadata": {
        "id": "wTKdvGK3y-ii"
      },
      "execution_count": 187,
      "outputs": []
    },
    {
      "cell_type": "code",
      "source": [
        "a"
      ],
      "metadata": {
        "colab": {
          "base_uri": "https://localhost:8080/"
        },
        "id": "9BkLhyRYzRSV",
        "outputId": "2926eb5e-4bba-4f46-98b9-6f9949330471"
      },
      "execution_count": 188,
      "outputs": [
        {
          "output_type": "execute_result",
          "data": {
            "text/plain": [
              "[[4, 7, 5], [3, 5, 8]]"
            ]
          },
          "metadata": {},
          "execution_count": 188
        }
      ]
    },
    {
      "cell_type": "code",
      "source": [
        "def agg_raw(original_matrix : list, new_raw : list, indexraw_to_agg : int):\n",
        "  if len(original_matrix[0]) == len(new_raw):\n",
        "    original_matrix.insert(indexraw_to_agg, new_raw)\n",
        "  else:\n",
        "    print('La lista no se puede agregar, diferente tamaño de listas')"
      ],
      "metadata": {
        "id": "b0xP1wUBzSIr"
      },
      "execution_count": 189,
      "outputs": []
    },
    {
      "cell_type": "code",
      "source": [
        "f=[8,6,5]"
      ],
      "metadata": {
        "id": "2K9BGdU9zk-9"
      },
      "execution_count": 190,
      "outputs": []
    },
    {
      "cell_type": "code",
      "source": [
        "agg_raw(a, f, 0)"
      ],
      "metadata": {
        "id": "q1nclOvuzndP"
      },
      "execution_count": 191,
      "outputs": []
    },
    {
      "cell_type": "code",
      "source": [
        "a"
      ],
      "metadata": {
        "id": "q7ShDJ7zzo_t",
        "outputId": "8a3c3cc2-5b94-4979-e19f-986dc964a052",
        "colab": {
          "base_uri": "https://localhost:8080/"
        }
      },
      "execution_count": 192,
      "outputs": [
        {
          "output_type": "execute_result",
          "data": {
            "text/plain": [
              "[[8, 6, 5], [4, 7, 5], [3, 5, 8]]"
            ]
          },
          "metadata": {},
          "execution_count": 192
        }
      ]
    },
    {
      "cell_type": "code",
      "source": [
        "def del_col(original_matrix : list, indexcol_to_delete : int):\n",
        "  for i in range(len(a)):\n",
        "      original_matrix[i].pop(indexcol_to_delete)"
      ],
      "metadata": {
        "id": "GFXQA7IbkJ5E"
      },
      "execution_count": 193,
      "outputs": []
    },
    {
      "cell_type": "code",
      "source": [
        "del_col(a, 0)"
      ],
      "metadata": {
        "id": "PTrdYoG5oGIb"
      },
      "execution_count": 194,
      "outputs": []
    },
    {
      "cell_type": "code",
      "source": [
        "a"
      ],
      "metadata": {
        "colab": {
          "base_uri": "https://localhost:8080/"
        },
        "id": "pLlMli4doJep",
        "outputId": "15cc01be-666e-4855-ce84-81a6da41c70b"
      },
      "execution_count": 195,
      "outputs": [
        {
          "output_type": "execute_result",
          "data": {
            "text/plain": [
              "[[6, 5], [7, 5], [5, 8]]"
            ]
          },
          "metadata": {},
          "execution_count": 195
        }
      ]
    },
    {
      "cell_type": "code",
      "source": [
        "def del_raw(original_matrix : list, indexraw_to_delete : int):\n",
        "  original_matrix.pop(indexraw_to_delete)"
      ],
      "metadata": {
        "id": "sbRtdKYwoXd1"
      },
      "execution_count": 196,
      "outputs": []
    },
    {
      "cell_type": "code",
      "source": [
        "del_raw(a,0)"
      ],
      "metadata": {
        "id": "nqc0RKnbpWqx"
      },
      "execution_count": 197,
      "outputs": []
    },
    {
      "cell_type": "code",
      "source": [
        "a"
      ],
      "metadata": {
        "colab": {
          "base_uri": "https://localhost:8080/"
        },
        "id": "Jwtf4NYMpdFo",
        "outputId": "f64147ea-4c89-48a4-9fb8-45218d38c4bf"
      },
      "execution_count": 198,
      "outputs": [
        {
          "output_type": "execute_result",
          "data": {
            "text/plain": [
              "[[7, 5], [5, 8]]"
            ]
          },
          "metadata": {},
          "execution_count": 198
        }
      ]
    },
    {
      "cell_type": "code",
      "source": [],
      "metadata": {
        "id": "E7kUqlDkt484"
      },
      "execution_count": null,
      "outputs": []
    }
  ]
}